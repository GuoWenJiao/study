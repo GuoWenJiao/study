{
 "cells": [
  {
   "cell_type": "code",
   "execution_count": null,
   "metadata": {},
   "outputs": [],
   "source": [
    "import glob\n",
    "import os\n",
    "import sys\n",
    "\n",
    "try:\n",
    "    sys.path.append(glob.glob('../carla/dist/carla-*%d.%d-%s.egg' % (\n",
    "        sys.version_info.major,\n",
    "        sys.version_info.minor,\n",
    "        'win-amd64' if os.name == 'nt' else 'linux-x86_64'))[0])\n",
    "except IndexError:\n",
    "    pass\n",
    "\n",
    "\n",
    "import carla"
   ]
  },
  {
   "cell_type": "markdown",
   "metadata": {},
   "source": [
    "# 连接上localhost 2000端口\n",
    "## 这里的'vehicle'可以换成其他的对象。如行人、摩托车等等 walker为行人；vehicle为汽车；xx为摩托车"
   ]
  },
  {
   "cell_type": "code",
   "execution_count": null,
   "metadata": {},
   "outputs": [],
   "source": []
  },
  {
   "cell_type": "code",
   "execution_count": null,
   "metadata": {},
   "outputs": [],
   "source": []
  },
  {
   "cell_type": "code",
   "execution_count": null,
   "metadata": {},
   "outputs": [],
   "source": [
    "client = carla.Client('localhost',2000)\n",
    "client.set_timeout(5.0)\n",
    "world = client.get_world()\n",
    "blueprint_library = world.get_blueprint_library()\n",
    "##Search for specific actor and get its blueprint.\n",
    "vehicle_bp = blueprint_library.filter('walker')[0]\n",
    "#print(blueprint_library.filter('model3'))\n",
    "print(vehicle_bp)"
   ]
  },
  {
   "cell_type": "markdown",
   "metadata": {},
   "source": [
    "# 更换地图\n",
    "## 该版本提供了01-09地图"
   ]
  },
  {
   "cell_type": "code",
   "execution_count": null,
   "metadata": {},
   "outputs": [],
   "source": [
    "import random\n",
    "import time\n",
    "TOWN = 'Town04'\n",
    "\n",
    "client = carla.Client('localhost',2000)\n",
    "client.set_timeout(10)\n",
    "world = client.load_world(TOWN)"
   ]
  },
  {
   "cell_type": "markdown",
   "metadata": {},
   "source": [
    "# 生成指定的车辆/行人/摩托车"
   ]
  },
  {
   "cell_type": "code",
   "execution_count": null,
   "metadata": {},
   "outputs": [],
   "source": [
    "#Import the library Transform used to explicitly spawn an actor\n",
    "from carla import Transform, Location, Rotation\n",
    "...\n",
    "spawn_point = Transform(Location(x=100, y=60, z=1), \n",
    "Rotation(pitch=0, yaw=180, roll=0))\n",
    "walker = world.spawn_actor(vehicle_bp, spawn_point)"
   ]
  },
  {
   "cell_type": "markdown",
   "metadata": {},
   "source": [
    "# 控制位置"
   ]
  },
  {
   "cell_type": "code",
   "execution_count": null,
   "metadata": {},
   "outputs": [],
   "source": [
    "location = walker.get_location()\n",
    "print('current location:{}'.format(location))\n",
    "location.x += 40\n",
    "walker.set_location(location)\n",
    "print('moved location:{}'.format(location))"
   ]
  },
  {
   "cell_type": "markdown",
   "metadata": {},
   "source": [
    "# 控制行人速度。 加速度等"
   ]
  },
  {
   "cell_type": "code",
   "execution_count": null,
   "metadata": {},
   "outputs": [],
   "source": [
    "#vehicle.speed(1)\n",
    "ApplyWalkerState.__init__(vehicle, 90, 1)\n",
    "walker.apply_control(carla.WalkerControl(throttle=1.0, steer=-1.0))\n",
    "walker.apply_control(carla.WalkerState(vehicle, 90, 1))"
   ]
  },
  {
   "cell_type": "markdown",
   "metadata": {},
   "source": [
    "# 控制车辆"
   ]
  },
  {
   "cell_type": "code",
   "execution_count": null,
   "metadata": {},
   "outputs": [],
   "source": [
    "#操控车辆\n",
    "vehicle.apply_control(carla.VehicleControl(throttle=1.0, steer=-1.0))\n",
    " \n",
    "#全部的属性API：\n",
    "carla.VehicleControl(\n",
    "    throttle = 0.0\n",
    "    steer = 0.0\n",
    "    brake = 0.0\n",
    "    hand_brake = False\n",
    "    reverse = False\n",
    "    manual_gear_shift = False\n",
    "    gear = 0)"
   ]
  },
  {
   "cell_type": "markdown",
   "metadata": {},
   "source": [
    "## 车辆的动力性特性--调整质量，力矩图，最大RPM"
   ]
  },
  {
   "cell_type": "code",
   "execution_count": null,
   "metadata": {},
   "outputs": [],
   "source": [
    "# 车辆的动力性特性--调整质量，力矩图，最大RPM\n",
    "vehicle.apply_physics_control(carla.VehiclePhysicsControl(max_rpm = 5000.0,\n",
    " center_of_mass = carla.Vector3D(0.0, 0.0, 0.0), torque_curve=[[0,400],[5000,400]]))"
   ]
  },
  {
   "cell_type": "markdown",
   "metadata": {},
   "source": [
    "## API 结构体定义"
   ]
  },
  {
   "cell_type": "code",
   "execution_count": null,
   "metadata": {},
   "outputs": [],
   "source": [
    "#API 结构体定义\n",
    "carla.VehiclePhysicsControl(\n",
    "    torque_curve,\n",
    "    max_rpm,\n",
    "    moi,\n",
    "    damping_rate_full_throttle,\n",
    "    damping_rate_zero_throttle_clutch_engaged,\n",
    "    damping_rate_zero_throttle_clutch_disengaged,\n",
    "    use_gear_autobox,\n",
    "    gear_switch_time,\n",
    "    clutch_strength,\n",
    "    mass,\n",
    "    drag_coefficient,\n",
    "    center_of_mass,\n",
    "    steering_curve, # 转向maximum steering for a specific forward speed\n",
    "    wheels)"
   ]
  }
 ],
 "metadata": {
  "kernelspec": {
   "display_name": "Python 3",
   "language": "python",
   "name": "python3"
  },
  "language_info": {
   "codemirror_mode": {
    "name": "ipython",
    "version": 3
   },
   "file_extension": ".py",
   "mimetype": "text/x-python",
   "name": "python",
   "nbconvert_exporter": "python",
   "pygments_lexer": "ipython3",
   "version": "3.7.0"
  }
 },
 "nbformat": 4,
 "nbformat_minor": 4
}
